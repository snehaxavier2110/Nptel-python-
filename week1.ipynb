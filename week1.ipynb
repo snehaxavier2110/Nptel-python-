{
 "cells": [
  {
   "cell_type": "markdown",
   "id": "25ec7108",
   "metadata": {},
   "source": [
    "DISCUSSION ON GCD ALGORITHM "
   ]
  },
  {
   "cell_type": "code",
   "execution_count": null,
   "id": "90f6efb5",
   "metadata": {},
   "outputs": [],
   "source": [
    "# solution 6: while condition euclid algorithm\n",
    "def gcd(m,n):\n",
    "    if m<n:\n",
    "        (m,n)=(n,m)\n",
    "    while m%n !=0:\n",
    "        d=m-n\n",
    "        (m,n)=(max(n,d),min(n,d))    \n",
    "    return n    "
   ]
  },
  {
   "cell_type": "code",
   "execution_count": null,
   "id": "ad821f08",
   "metadata": {},
   "outputs": [
    {
     "name": "stdout",
     "output_type": "stream",
     "text": [
      "'''Calculation of greatest common factor of two numbers'''\n",
      "GCD of 4 and 26 is 2\n"
     ]
    }
   ],
   "source": [
    "# solution 5 : using euclid algorithm to find gcd recursive\n",
    "def gcd(m,n):\n",
    "    # assume m>n\n",
    "    if m<n:\n",
    "        (m,n)=(n,m)\n",
    "    if m%n ==0:\n",
    "        return n\n",
    "    else:\n",
    "        d=m-n\n",
    "        return (gcd(max(n,d),min(n,d)))\n",
    "    \n",
    "print(\"'''Calculation of greatest common factor of two numbers'''\")\n",
    "n= int(input(\"First number :\"))\n",
    "m= int(input(\"Second number :\"))\n",
    "print(f\"GCD of {n} and {m} is {gcd(m,n)}\")                       "
   ]
  },
  {
   "cell_type": "code",
   "execution_count": null,
   "id": "afab207c",
   "metadata": {},
   "outputs": [
    {
     "name": "stdout",
     "output_type": "stream",
     "text": [
      "'''Calculation of greatest common factor of two numbers'''\n",
      "GCD of 6 and 7 is 1\n"
     ]
    }
   ],
   "source": [
    "# solution 4 :without list and loop in reverse to find the gcd as soon as possible\n",
    "def gcd(u,v):\n",
    "    i=min(u,v)  # setting max value possible for gcd as i \n",
    "    while i>0:   # exit loop when conditon i=1 as if no other gcd , it has still 1 as gcd \n",
    "        if n%i==0 and m%i==0:\n",
    "            return i   # returning the largest value that makes condition true\n",
    "        else:\n",
    "            i=i-1    # reducing the value from min(a,b) by 1 for every time condition fails till 1 appears\n",
    "print(\"'''Calculation of greatest common factor of two numbers'''\")\n",
    "n= int(input(\"First number :\"))\n",
    "m= int(input(\"Second number :\"))\n",
    "print(f\"GCD of {n} and {m} is {gcd(m,n)}\")               "
   ]
  },
  {
   "cell_type": "code",
   "execution_count": 9,
   "id": "2ee0f0c7",
   "metadata": {},
   "outputs": [
    {
     "name": "stdout",
     "output_type": "stream",
     "text": [
      "'''Calculation of greatest common factor of two numbers'''\n",
      "GCD of 5 and 30 is 5\n"
     ]
    }
   ],
   "source": [
    "# solution 3 : without list \n",
    "def gcd(p,q):\n",
    "    for i in range(1,min(p,q)+1): #min is used to avoid any loop greater that the value of smallest number\n",
    "        if p%i ==0 and q%i==0:\n",
    "            mrcf = i  #most recent common factor\n",
    "    return mrcf\n",
    "print(\"'''Calculation of greatest common factor of two numbers'''\")\n",
    "n= int(input(\"First number :\"))\n",
    "m= int(input(\"Second number :\"))\n",
    "print(f\"GCD of {n} and {m} is {gcd(m,n)}\")          "
   ]
  },
  {
   "cell_type": "code",
   "execution_count": null,
   "id": "7d3083d3",
   "metadata": {},
   "outputs": [
    {
     "name": "stdout",
     "output_type": "stream",
     "text": [
      "'''Calculation of greatest common factor of two numbers'''\n",
      "common factors: [1, 3]\n",
      "GCD of 3 and 24 is 3\n"
     ]
    }
   ],
   "source": [
    "# solution 2 : single loop to check for common divisors with list\n",
    "def gcd(a,b):\n",
    "    cf=[]\n",
    "    for i in range(1, min(a,b)+1): #min is used to avoid any loop greater that the value of smallest number\n",
    "        if n%i ==0 and m%i==0 :\n",
    "            cf.append(i)           #store all common factors\n",
    "    print(\"common factors:\",cf)        \n",
    "    return cf[-1]                  #return the last element as the list is ascending ordered\n",
    "\n",
    "print(\"'''Calculation of greatest common factor of two numbers'''\")\n",
    "n= int(input(\"First number :\"))\n",
    "m= int(input(\"Second number :\"))\n",
    "print(f\"GCD of {n} and {m} is {gcd(m,n)}\")  "
   ]
  },
  {
   "cell_type": "code",
   "execution_count": null,
   "id": "b7bf4ae1",
   "metadata": {},
   "outputs": [
    {
     "name": "stdout",
     "output_type": "stream",
     "text": [
      "'''Calculation of greatest common factor of two numbers'''\n",
      "common factors : [1, 2]\n",
      "GCD of 4 and 246 is 2\n"
     ]
    }
   ],
   "source": [
    "# solution 1 : using 2 for loops and 2 lists of commom factor and comparision\n",
    "def gcd(m,n):\n",
    "   fn = []                   # list for storing factors of n\n",
    "   for i in range(1,n+1):\n",
    "      if n%i ==0:\n",
    "        fn.append(i)         # appending factors of n\n",
    "   fm = []                   # list for storing factors of m\n",
    "   for j in range(1,m+1):\n",
    "      if m%j ==0:\n",
    "        fm.append(j)         # appending factors of m\n",
    "   cf=[]                     # list for storing common factors\n",
    "   for f in fn:\n",
    "       if f in fm:        # checking if a factor of n is there in list of factors of m\n",
    "          cf.append(f)\n",
    "   print(\"common factors :\",cf)       \n",
    "   return cf[-1]          # returning the highest value in the commom factor list\n",
    "\n",
    "print(\"'''Calculation of greatest common factor of two numbers'''\")\n",
    "n= int(input(\"First number :\"))\n",
    "m= int(input(\"Second number :\"))\n",
    "print(f\"GCD of {n} and {m} is {gcd(m,n)}\")                  "
   ]
  }
 ],
 "metadata": {
  "kernelspec": {
   "display_name": "base",
   "language": "python",
   "name": "python3"
  },
  "language_info": {
   "codemirror_mode": {
    "name": "ipython",
    "version": 3
   },
   "file_extension": ".py",
   "mimetype": "text/x-python",
   "name": "python",
   "nbconvert_exporter": "python",
   "pygments_lexer": "ipython3",
   "version": "3.12.7"
  }
 },
 "nbformat": 4,
 "nbformat_minor": 5
}
